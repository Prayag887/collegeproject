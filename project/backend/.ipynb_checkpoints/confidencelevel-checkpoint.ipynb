{
 "cells": [
  {
   "cell_type": "code",
   "execution_count": 7,
   "id": "f0cad7a5-ad10-4bf8-b0e4-c197200ab088",
   "metadata": {},
   "outputs": [],
   "source": [
    "# ...\n",
    "\n",
    "# Connect to the SQLite database\n",
    "conn = sqlite3.connect('confidence_levl.db')\n",
    "cursor = conn.cursor()\n",
    "\n",
    "# Create a table if it doesn't exist\n",
    "cursor.execute('''\n",
    "    CREATE TABLE IF NOT EXISTS Predictions (\n",
    "        Entity TEXT,\n",
    "        Year INTEGER,\n",
    "        Electricity_from_hydro TEXT,\n",
    "        Electricity_from_wind TEXT,\n",
    "        Electricity_from_solar TEXT,\n",
    "        Other_renewables TEXT,\n",
    "        Total TEXT,\n",
    "        Probability TEXT,\n",
    "        Probability_Percentage TEXT\n",
    "    )\n",
    "''')\n",
    "\n",
    "\n",
    "# Iterate through the predictions and insert values into the database\n",
    "for prediction_data in all_predictions:\n",
    "    entity = prediction_data['Entity']\n",
    "    for year, prob_hydro, prob_wind, prob_solar, prob_bio, prob_total, prob_percentage in zip(\n",
    "        years,\n",
    "        prediction_data['Electricity from hydro (TWh)']['Probabilities'],\n",
    "        prediction_data['Electricity from wind (TWh)']['Probabilities'],\n",
    "        prediction_data['Electricity from solar (TWh)']['Probabilities'],\n",
    "        prediction_data['Other renewables including bioenergy (TWh)']['Probabilities'],\n",
    "        prediction_data['Total (TWh)']['Probabilities'],\n",
    "        prediction_data['Total (TWh)']['Probabilities Percentage']\n",
    "    ):\n",
    "        cursor.execute('''\n",
    "            INSERT INTO Predictions(Entity, Year, Electricity_from_hydro, Electricity_from_wind, Electricity_from_solar, Other_renewables, Total, Probability, Probability_Percentage)\n",
    "            VALUES (?, ?, ?, ?, ?, ?, ?, ?, ?)\n",
    "        ''', (entity, year, prob_hydro, prob_wind, prob_solar, prob_bio, prob_total, prob_percentage, max(float(prediction_data['Electricity from hydro (TWh)']['Probabilities Percentage'][year - 2021]), float(prediction_data['Electricity from wind (TWh)']['Probabilities Percentage'][year - 2021]), float(prediction_data['Electricity from solar (TWh)']['Probabilities Percentage'][year - 2021]), float(prediction_data['Other renewables including bioenergy (TWh)']['Probabilities Percentage'][year - 2021]), float(prediction_data['Total (TWh)']['Probabilities Percentage'][year - 2021]))))\n",
    "\n",
    "# Commit changes and close the connection\n",
    "conn.commit()\n",
    "conn.close()\n",
    "\n",
    "# Commit changes and close the connection\n",
    "conn.commit()\n",
    "conn.close()\n"
   ]
  },
  {
   "cell_type": "code",
   "execution_count": null,
   "id": "a5a7283d-2f8e-499f-b3ba-d0d6bb5a5cea",
   "metadata": {},
   "outputs": [],
   "source": []
  },
  {
   "cell_type": "code",
   "execution_count": null,
   "id": "1f36011b-b8b6-4c82-b73e-9ae59fc335da",
   "metadata": {},
   "outputs": [],
   "source": []
  }
 ],
 "metadata": {
  "kernelspec": {
   "display_name": "Python 3 (ipykernel)",
   "language": "python",
   "name": "python3"
  },
  "language_info": {
   "codemirror_mode": {
    "name": "ipython",
    "version": 3
   },
   "file_extension": ".py",
   "mimetype": "text/x-python",
   "name": "python",
   "nbconvert_exporter": "python",
   "pygments_lexer": "ipython3",
   "version": "3.12.0"
  }
 },
 "nbformat": 4,
 "nbformat_minor": 5
}
